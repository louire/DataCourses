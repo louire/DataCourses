{
 "nbformat": 4,
 "nbformat_minor": 0,
 "metadata": {
  "colab": {
   "name": "tipos de dato numpy.ipynb",
   "provenance": []
  },
  "kernelspec": {
   "name": "python3",
   "language": "python",
   "display_name": "Python 3 (ipykernel)"
  },
  "language_info": {
   "name": "python"
  }
 },
 "cells": [
  {
   "cell_type": "markdown",
   "source": [
    "### Importando librerias"
   ],
   "metadata": {
    "id": "r-Sk_ZXyXBwW"
   }
  },
  {
   "cell_type": "code",
   "execution_count": 8,
   "metadata": {
    "id": "fqTirCKE0brN",
    "ExecuteTime": {
     "end_time": "2023-09-11T02:34:46.921136Z",
     "start_time": "2023-09-11T02:34:46.912667Z"
    }
   },
   "outputs": [],
   "source": [
    "import numpy as np"
   ]
  },
  {
   "cell_type": "code",
   "source": [
    "arr = np.array([1,2,3,4])\n",
    "arr.dtype"
   ],
   "metadata": {
    "colab": {
     "base_uri": "https://localhost:8080/"
    },
    "id": "Dztz1Ol-0-q7",
    "executionInfo": {
     "status": "ok",
     "timestamp": 1644852273913,
     "user_tz": 300,
     "elapsed": 335,
     "user": {
      "displayName": "Carlos Alarcón",
      "photoUrl": "https://lh3.googleusercontent.com/a-/AOh14Gi5yiEZVCJHSPXSQ3AFJwgX5SrkNoAR_UlJ0eA17A=s64",
      "userId": "13933052018899005349"
     }
    },
    "outputId": "e856efdd-e6df-4b79-f92c-37deec44887e",
    "ExecuteTime": {
     "end_time": "2023-09-11T02:34:46.941055Z",
     "start_time": "2023-09-11T02:34:46.915553Z"
    }
   },
   "execution_count": 9,
   "outputs": [
    {
     "data": {
      "text/plain": "dtype('int64')"
     },
     "execution_count": 9,
     "metadata": {},
     "output_type": "execute_result"
    }
   ]
  },
  {
   "cell_type": "code",
   "source": [
    "arr = np.array([1,2,3,4], dtype='float64')\n",
    "arr.dtype"
   ],
   "metadata": {
    "colab": {
     "base_uri": "https://localhost:8080/"
    },
    "id": "-fJdwGfm1Qoa",
    "executionInfo": {
     "status": "ok",
     "timestamp": 1644852235273,
     "user_tz": 300,
     "elapsed": 333,
     "user": {
      "displayName": "Carlos Alarcón",
      "photoUrl": "https://lh3.googleusercontent.com/a-/AOh14Gi5yiEZVCJHSPXSQ3AFJwgX5SrkNoAR_UlJ0eA17A=s64",
      "userId": "13933052018899005349"
     }
    },
    "outputId": "e4398b02-279a-4181-d125-8a6c0a8a9ab4",
    "ExecuteTime": {
     "end_time": "2023-09-11T02:34:46.941343Z",
     "start_time": "2023-09-11T02:34:46.940346Z"
    }
   },
   "execution_count": 10,
   "outputs": [
    {
     "data": {
      "text/plain": "dtype('float64')"
     },
     "execution_count": 10,
     "metadata": {},
     "output_type": "execute_result"
    }
   ]
  },
  {
   "cell_type": "code",
   "source": [
    "arr"
   ],
   "metadata": {
    "colab": {
     "base_uri": "https://localhost:8080/"
    },
    "id": "tBB9n3Jk1Xal",
    "executionInfo": {
     "status": "ok",
     "timestamp": 1644852282233,
     "user_tz": 300,
     "elapsed": 312,
     "user": {
      "displayName": "Carlos Alarcón",
      "photoUrl": "https://lh3.googleusercontent.com/a-/AOh14Gi5yiEZVCJHSPXSQ3AFJwgX5SrkNoAR_UlJ0eA17A=s64",
      "userId": "13933052018899005349"
     }
    },
    "outputId": "827034b5-052f-45dd-fc70-a5ed0f0f2c46",
    "ExecuteTime": {
     "end_time": "2023-09-11T02:34:46.941511Z",
     "start_time": "2023-09-11T02:34:46.940480Z"
    }
   },
   "execution_count": 11,
   "outputs": [
    {
     "data": {
      "text/plain": "array([1., 2., 3., 4.])"
     },
     "execution_count": 11,
     "metadata": {},
     "output_type": "execute_result"
    }
   ]
  },
  {
   "cell_type": "markdown",
   "source": [
    "### Cambiando tipo de datos"
   ],
   "metadata": {
    "id": "Lv-h9F3yXI4h"
   }
  },
  {
   "cell_type": "code",
   "source": [
    "arr = np.array([0,1,2,3,4])\n",
    "arr = arr.astype(np.bool_)\n",
    "arr"
   ],
   "metadata": {
    "colab": {
     "base_uri": "https://localhost:8080/"
    },
    "id": "0F69SbF21gFp",
    "executionInfo": {
     "status": "ok",
     "timestamp": 1644852365126,
     "user_tz": 300,
     "elapsed": 473,
     "user": {
      "displayName": "Carlos Alarcón",
      "photoUrl": "https://lh3.googleusercontent.com/a-/AOh14Gi5yiEZVCJHSPXSQ3AFJwgX5SrkNoAR_UlJ0eA17A=s64",
      "userId": "13933052018899005349"
     }
    },
    "outputId": "f4a3a67b-a342-4789-e717-292670b72027",
    "ExecuteTime": {
     "end_time": "2023-09-11T02:34:46.941769Z",
     "start_time": "2023-09-11T02:34:46.940564Z"
    }
   },
   "execution_count": 12,
   "outputs": [
    {
     "data": {
      "text/plain": "array([False,  True,  True,  True,  True])"
     },
     "execution_count": 12,
     "metadata": {},
     "output_type": "execute_result"
    }
   ]
  },
  {
   "cell_type": "code",
   "source": [
    "arr = np.array([0,1,2,3,4])\n",
    "arr = arr.astype(np.string_)\n",
    "arr"
   ],
   "metadata": {
    "colab": {
     "base_uri": "https://localhost:8080/"
    },
    "id": "0HTVNtYh157J",
    "executionInfo": {
     "status": "ok",
     "timestamp": 1644852396570,
     "user_tz": 300,
     "elapsed": 307,
     "user": {
      "displayName": "Carlos Alarcón",
      "photoUrl": "https://lh3.googleusercontent.com/a-/AOh14Gi5yiEZVCJHSPXSQ3AFJwgX5SrkNoAR_UlJ0eA17A=s64",
      "userId": "13933052018899005349"
     }
    },
    "outputId": "fdf77dd3-9c08-40ab-f9e4-be2fb25a74c6",
    "ExecuteTime": {
     "end_time": "2023-09-11T02:34:46.945684Z",
     "start_time": "2023-09-11T02:34:46.942274Z"
    }
   },
   "execution_count": 13,
   "outputs": [
    {
     "data": {
      "text/plain": "array([b'0', b'1', b'2', b'3', b'4'], dtype='|S21')"
     },
     "execution_count": 13,
     "metadata": {},
     "output_type": "execute_result"
    }
   ]
  },
  {
   "cell_type": "code",
   "source": [
    "arr = np.array(['hola','1','2','3','4'])\n",
    "arr = arr.astype(np.int8)\n",
    "arr"
   ],
   "metadata": {
    "colab": {
     "base_uri": "https://localhost:8080/",
     "height": 201
    },
    "id": "j3RBPEdl2Bhp",
    "executionInfo": {
     "status": "error",
     "timestamp": 1644852453287,
     "user_tz": 300,
     "elapsed": 323,
     "user": {
      "displayName": "Carlos Alarcón",
      "photoUrl": "https://lh3.googleusercontent.com/a-/AOh14Gi5yiEZVCJHSPXSQ3AFJwgX5SrkNoAR_UlJ0eA17A=s64",
      "userId": "13933052018899005349"
     }
    },
    "outputId": "e19af05e-719a-4a3c-bb7f-88071ea54692",
    "ExecuteTime": {
     "end_time": "2023-09-11T02:34:46.988686Z",
     "start_time": "2023-09-11T02:34:46.949978Z"
    }
   },
   "execution_count": 14,
   "outputs": [
    {
     "ename": "ValueError",
     "evalue": "invalid literal for int() with base 10: 'hola'",
     "output_type": "error",
     "traceback": [
      "\u001B[0;31m---------------------------------------------------------------------------\u001B[0m",
      "\u001B[0;31mValueError\u001B[0m                                Traceback (most recent call last)",
      "Cell \u001B[0;32mIn[14], line 2\u001B[0m\n\u001B[1;32m      1\u001B[0m arr \u001B[38;5;241m=\u001B[39m np\u001B[38;5;241m.\u001B[39marray([\u001B[38;5;124m'\u001B[39m\u001B[38;5;124mhola\u001B[39m\u001B[38;5;124m'\u001B[39m,\u001B[38;5;124m'\u001B[39m\u001B[38;5;124m1\u001B[39m\u001B[38;5;124m'\u001B[39m,\u001B[38;5;124m'\u001B[39m\u001B[38;5;124m2\u001B[39m\u001B[38;5;124m'\u001B[39m,\u001B[38;5;124m'\u001B[39m\u001B[38;5;124m3\u001B[39m\u001B[38;5;124m'\u001B[39m,\u001B[38;5;124m'\u001B[39m\u001B[38;5;124m4\u001B[39m\u001B[38;5;124m'\u001B[39m])\n\u001B[0;32m----> 2\u001B[0m arr \u001B[38;5;241m=\u001B[39m arr\u001B[38;5;241m.\u001B[39mastype(np\u001B[38;5;241m.\u001B[39mint8)\n\u001B[1;32m      3\u001B[0m arr\n",
      "\u001B[0;31mValueError\u001B[0m: invalid literal for int() with base 10: 'hola'"
     ]
    }
   ]
  }
 ]
}
